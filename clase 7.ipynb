{
 "cells": [
  {
   "cell_type": "markdown",
   "metadata": {},
   "source": [
    "# Páginas para programar python"
   ]
  },
  {
   "cell_type": "markdown",
   "metadata": {},
   "source": [
    "1. www.mybinder.org\n",
    "2. www.kaggle.com\n",
    "3. www.jupyter.org/try\n",
    "4. `github jobish` https://mybinder.org/v2/gh/jobish03/jobish03-Visualizacion_de_datos_para_la_toma_de_decisiones/main?filepath=welcome_binder.ipynb\n",
    "\n",
    "Los paquetes hay que incluir en el archivo `requirements.txt`"
   ]
  },
  {
   "cell_type": "code",
   "execution_count": 1,
   "metadata": {},
   "outputs": [
    {
     "name": "stdout",
     "output_type": "stream",
     "text": [
      "adult.csv                  census.csv     movies.csv\n",
      "airline_data.csv           coches.csv     nhanes_2015_2016.csv\n",
      "antropometria00.csv        cwurData.csv   pokemon.csv\n",
      "antropometria-dataset.csv  data.csv       sample_pivot.csv\n",
      "Book3.csv                  headbrain.csv  tips.csv\n",
      "Canada.xlsx                mic2.xlsx      weight-height.csv\n",
      "Cartwheeldata.csv          mic.xlsx\n"
     ]
    }
   ],
   "source": [
    "%ls datasets/"
   ]
  },
  {
   "cell_type": "code",
   "execution_count": 2,
   "metadata": {},
   "outputs": [
    {
     "name": "stdout",
     "output_type": "stream",
     "text": [
      "Collecting openpyxl\n",
      "  Downloading openpyxl-3.0.9-py2.py3-none-any.whl (242 kB)\n",
      "\u001b[K     |████████████████████████████████| 242 kB 4.7 MB/s eta 0:00:01\n",
      "\u001b[?25hCollecting et-xmlfile\n",
      "  Downloading et_xmlfile-1.1.0-py3-none-any.whl (4.7 kB)\n",
      "Installing collected packages: et-xmlfile, openpyxl\n",
      "Successfully installed et-xmlfile-1.1.0 openpyxl-3.0.9\n",
      "Note: you may need to restart the kernel to use updated packages.\n"
     ]
    }
   ],
   "source": [
    "pip install openpyxl"
   ]
  },
  {
   "cell_type": "code",
   "execution_count": 8,
   "metadata": {},
   "outputs": [
    {
     "name": "stdout",
     "output_type": "stream",
     "text": [
      "Collecting xlrd\n",
      "  Downloading xlrd-2.0.1-py2.py3-none-any.whl (96 kB)\n",
      "\u001b[K     |████████████████████████████████| 96 kB 3.1 MB/s eta 0:00:011\n",
      "\u001b[?25hInstalling collected packages: xlrd\n",
      "Successfully installed xlrd-2.0.1\n",
      "Note: you may need to restart the kernel to use updated packages.\n"
     ]
    }
   ],
   "source": [
    "pip install xlrd"
   ]
  },
  {
   "cell_type": "code",
   "execution_count": 3,
   "metadata": {},
   "outputs": [
    {
     "name": "stdout",
     "output_type": "stream",
     "text": [
      "Collecting seaborn\n",
      "  Downloading seaborn-0.11.2-py3-none-any.whl (292 kB)\n",
      "\u001b[K     |████████████████████████████████| 292 kB 4.7 MB/s eta 0:00:01\n",
      "\u001b[?25hRequirement already satisfied: scipy>=1.0 in /srv/conda/envs/notebook/lib/python3.7/site-packages (from seaborn) (1.4.1)\n",
      "Requirement already satisfied: pandas>=0.23 in /srv/conda/envs/notebook/lib/python3.7/site-packages (from seaborn) (1.0.4)\n",
      "Requirement already satisfied: matplotlib>=2.2 in /srv/conda/envs/notebook/lib/python3.7/site-packages (from seaborn) (3.2.1)\n",
      "Requirement already satisfied: numpy>=1.15 in /srv/conda/envs/notebook/lib/python3.7/site-packages (from seaborn) (1.18.5)\n",
      "Requirement already satisfied: kiwisolver>=1.0.1 in /srv/conda/envs/notebook/lib/python3.7/site-packages (from matplotlib>=2.2->seaborn) (1.2.0)\n",
      "Requirement already satisfied: cycler>=0.10 in /srv/conda/envs/notebook/lib/python3.7/site-packages (from matplotlib>=2.2->seaborn) (0.10.0)\n",
      "Requirement already satisfied: pyparsing!=2.0.4,!=2.1.2,!=2.1.6,>=2.0.1 in /srv/conda/envs/notebook/lib/python3.7/site-packages (from matplotlib>=2.2->seaborn) (2.4.7)\n",
      "Requirement already satisfied: python-dateutil>=2.1 in /srv/conda/envs/notebook/lib/python3.7/site-packages (from matplotlib>=2.2->seaborn) (2.8.1)\n",
      "Requirement already satisfied: six in /srv/conda/envs/notebook/lib/python3.7/site-packages (from cycler>=0.10->matplotlib>=2.2->seaborn) (1.16.0)\n",
      "Requirement already satisfied: pytz>=2017.2 in /srv/conda/envs/notebook/lib/python3.7/site-packages (from pandas>=0.23->seaborn) (2020.1)\n",
      "Installing collected packages: seaborn\n",
      "Successfully installed seaborn-0.11.2\n",
      "Note: you may need to restart the kernel to use updated packages.\n"
     ]
    }
   ],
   "source": [
    "pip install seaborn"
   ]
  },
  {
   "cell_type": "code",
   "execution_count": 6,
   "metadata": {},
   "outputs": [
    {
     "name": "stdout",
     "output_type": "stream",
     "text": [
      "Collecting plotly\n",
      "  Downloading plotly-5.4.0-py2.py3-none-any.whl (25.3 MB)\n",
      "\u001b[K     |████████████████████████████████| 25.3 MB 4.6 MB/s eta 0:00:01\n",
      "\u001b[?25hCollecting tenacity>=6.2.0\n",
      "  Downloading tenacity-8.0.1-py3-none-any.whl (24 kB)\n",
      "Requirement already satisfied: six in /srv/conda/envs/notebook/lib/python3.7/site-packages (from plotly) (1.16.0)\n",
      "Installing collected packages: tenacity, plotly\n",
      "Successfully installed plotly-5.4.0 tenacity-8.0.1\n",
      "Note: you may need to restart the kernel to use updated packages.\n"
     ]
    }
   ],
   "source": [
    "pip install plotly"
   ]
  },
  {
   "cell_type": "code",
   "execution_count": 9,
   "metadata": {},
   "outputs": [],
   "source": [
    "import pandas as pd\n",
    "import numpy as np\n",
    "import seaborn as sns\n",
    "import matplotlib as mpl\n",
    "import matplotlib.pyplot as plt\n",
    "import plotly.express as px"
   ]
  },
  {
   "cell_type": "code",
   "execution_count": 10,
   "metadata": {},
   "outputs": [
    {
     "data": {
      "text/html": [
       "<div>\n",
       "<style scoped>\n",
       "    .dataframe tbody tr th:only-of-type {\n",
       "        vertical-align: middle;\n",
       "    }\n",
       "\n",
       "    .dataframe tbody tr th {\n",
       "        vertical-align: top;\n",
       "    }\n",
       "\n",
       "    .dataframe thead th {\n",
       "        text-align: right;\n",
       "    }\n",
       "</style>\n",
       "<table border=\"1\" class=\"dataframe\">\n",
       "  <thead>\n",
       "    <tr style=\"text-align: right;\">\n",
       "      <th></th>\n",
       "      <th>Timestamp</th>\n",
       "      <th>Name</th>\n",
       "      <th>Age</th>\n",
       "      <th>Sex</th>\n",
       "      <th>Ocupation</th>\n",
       "      <th>Monthly income</th>\n",
       "      <th>Price</th>\n",
       "      <th>Quality</th>\n",
       "      <th>Quantity</th>\n",
       "      <th>Availability</th>\n",
       "      <th>...</th>\n",
       "      <th>Overal satisfaction</th>\n",
       "      <th>Consistency</th>\n",
       "      <th>Factor</th>\n",
       "      <th>Frowned</th>\n",
       "      <th>reason</th>\n",
       "      <th>Popular</th>\n",
       "      <th>My favorite</th>\n",
       "      <th>Kind</th>\n",
       "      <th>Preference</th>\n",
       "      <th>Recommend</th>\n",
       "    </tr>\n",
       "  </thead>\n",
       "  <tbody>\n",
       "    <tr>\n",
       "      <th>0</th>\n",
       "      <td>2021-09-24 11:41:37.540</td>\n",
       "      <td>Jobish Vallikavungal Devassia</td>\n",
       "      <td>31 - 40</td>\n",
       "      <td>Male</td>\n",
       "      <td>Research</td>\n",
       "      <td>&gt;40, 000</td>\n",
       "      <td>5</td>\n",
       "      <td>5</td>\n",
       "      <td>5</td>\n",
       "      <td>4</td>\n",
       "      <td>...</td>\n",
       "      <td>4</td>\n",
       "      <td>4</td>\n",
       "      <td>Taste</td>\n",
       "      <td>No</td>\n",
       "      <td>NaN</td>\n",
       "      <td>vanilla, lemon, and mint</td>\n",
       "      <td>Chocolate</td>\n",
       "      <td>More than one flavoured</td>\n",
       "      <td>agree</td>\n",
       "      <td>agree</td>\n",
       "    </tr>\n",
       "    <tr>\n",
       "      <th>1</th>\n",
       "      <td>2021-09-24 11:44:42.933</td>\n",
       "      <td>chikku</td>\n",
       "      <td>21 - 30</td>\n",
       "      <td>Male</td>\n",
       "      <td>student</td>\n",
       "      <td>&lt;10,000</td>\n",
       "      <td>3</td>\n",
       "      <td>5</td>\n",
       "      <td>3</td>\n",
       "      <td>4</td>\n",
       "      <td>...</td>\n",
       "      <td>4</td>\n",
       "      <td>4</td>\n",
       "      <td>Taste</td>\n",
       "      <td>No</td>\n",
       "      <td>Quanity issues</td>\n",
       "      <td>vanilla, chocolate, and strawberry</td>\n",
       "      <td>Chocolate</td>\n",
       "      <td>More than one flavoured</td>\n",
       "      <td>neutral</td>\n",
       "      <td>neutral</td>\n",
       "    </tr>\n",
       "    <tr>\n",
       "      <th>2</th>\n",
       "      <td>2021-09-24 11:49:07.510</td>\n",
       "      <td>Dr Lillykutty Abraham</td>\n",
       "      <td>41 - 50</td>\n",
       "      <td>Female</td>\n",
       "      <td>Teaching</td>\n",
       "      <td>&gt;40, 000</td>\n",
       "      <td>3</td>\n",
       "      <td>4</td>\n",
       "      <td>4</td>\n",
       "      <td>4</td>\n",
       "      <td>...</td>\n",
       "      <td>4</td>\n",
       "      <td>4</td>\n",
       "      <td>Taste</td>\n",
       "      <td>No</td>\n",
       "      <td>NaN</td>\n",
       "      <td>vanilla, chocolate, and strawberry</td>\n",
       "      <td>Caramel</td>\n",
       "      <td>More than one flavoured</td>\n",
       "      <td>disagree</td>\n",
       "      <td>neutral</td>\n",
       "    </tr>\n",
       "    <tr>\n",
       "      <th>3</th>\n",
       "      <td>2021-09-24 21:49:47.576</td>\n",
       "      <td>Joshua</td>\n",
       "      <td>21 - 30</td>\n",
       "      <td>Male</td>\n",
       "      <td>Student</td>\n",
       "      <td>&lt;10,000</td>\n",
       "      <td>5</td>\n",
       "      <td>5</td>\n",
       "      <td>3</td>\n",
       "      <td>4</td>\n",
       "      <td>...</td>\n",
       "      <td>4</td>\n",
       "      <td>4</td>\n",
       "      <td>Taste</td>\n",
       "      <td>No</td>\n",
       "      <td>NaN</td>\n",
       "      <td>vanilla, chocolate, and strawberry</td>\n",
       "      <td>Strawbery</td>\n",
       "      <td>More than one flavoured</td>\n",
       "      <td>agree</td>\n",
       "      <td>agree</td>\n",
       "    </tr>\n",
       "    <tr>\n",
       "      <th>4</th>\n",
       "      <td>2021-09-24 21:53:14.805</td>\n",
       "      <td>Aswathi</td>\n",
       "      <td>21 - 30</td>\n",
       "      <td>Female</td>\n",
       "      <td>Tutor</td>\n",
       "      <td>10,000 - 20,000</td>\n",
       "      <td>5</td>\n",
       "      <td>5</td>\n",
       "      <td>4</td>\n",
       "      <td>4</td>\n",
       "      <td>...</td>\n",
       "      <td>5</td>\n",
       "      <td>5</td>\n",
       "      <td>Quality</td>\n",
       "      <td>No</td>\n",
       "      <td>NaN</td>\n",
       "      <td>vanilla, chocolate, and strawberry</td>\n",
       "      <td>Vanila</td>\n",
       "      <td>single flavoured</td>\n",
       "      <td>agree</td>\n",
       "      <td>Strongly agree</td>\n",
       "    </tr>\n",
       "  </tbody>\n",
       "</table>\n",
       "<p>5 rows × 26 columns</p>\n",
       "</div>"
      ],
      "text/plain": [
       "                Timestamp                           Name      Age     Sex  \\\n",
       "0 2021-09-24 11:41:37.540  Jobish Vallikavungal Devassia  31 - 40    Male   \n",
       "1 2021-09-24 11:44:42.933                         chikku  21 - 30    Male   \n",
       "2 2021-09-24 11:49:07.510          Dr Lillykutty Abraham  41 - 50  Female   \n",
       "3 2021-09-24 21:49:47.576                         Joshua  21 - 30    Male   \n",
       "4 2021-09-24 21:53:14.805                        Aswathi  21 - 30  Female   \n",
       "\n",
       "   Ocupation  Monthly income   Price  Quality  Quantity  Availability  ...  \\\n",
       "0  Research          >40, 000      5        5         5             4  ...   \n",
       "1    student          <10,000      3        5         3             4  ...   \n",
       "2   Teaching         >40, 000      3        4         4             4  ...   \n",
       "3    Student          <10,000      5        5         3             4  ...   \n",
       "4      Tutor  10,000 - 20,000      5        5         4             4  ...   \n",
       "\n",
       "   Overal satisfaction  Consistency   Factor  Frowned          reason  \\\n",
       "0                    4            4    Taste       No             NaN   \n",
       "1                    4            4    Taste       No  Quanity issues   \n",
       "2                    4            4    Taste       No             NaN   \n",
       "3                    4            4    Taste       No             NaN   \n",
       "4                    5            5  Quality       No             NaN   \n",
       "\n",
       "                             Popular   My favorite                     Kind  \\\n",
       "0            vanilla, lemon, and mint    Chocolate  More than one flavoured   \n",
       "1  vanilla, chocolate, and strawberry    Chocolate  More than one flavoured   \n",
       "2  vanilla, chocolate, and strawberry      Caramel  More than one flavoured   \n",
       "3  vanilla, chocolate, and strawberry    Strawbery  More than one flavoured   \n",
       "4  vanilla, chocolate, and strawberry       Vanila         single flavoured   \n",
       "\n",
       "  Preference       Recommend  \n",
       "0      agree           agree  \n",
       "1    neutral         neutral  \n",
       "2   disagree         neutral  \n",
       "3      agree           agree  \n",
       "4      agree  Strongly agree  \n",
       "\n",
       "[5 rows x 26 columns]"
      ]
     },
     "execution_count": 10,
     "metadata": {},
     "output_type": "execute_result"
    }
   ],
   "source": [
    "df = pd.read_excel('datasets/mic.xlsx',\n",
    "                   engine = 'openpyxl'\n",
    "                  )\n",
    "df.head()"
   ]
  },
  {
   "cell_type": "code",
   "execution_count": null,
   "metadata": {},
   "outputs": [],
   "source": []
  }
 ],
 "metadata": {
  "kernelspec": {
   "display_name": "Python 3 (ipykernel)",
   "language": "python",
   "name": "python3"
  },
  "language_info": {
   "codemirror_mode": {
    "name": "ipython",
    "version": 3
   },
   "file_extension": ".py",
   "mimetype": "text/x-python",
   "name": "python",
   "nbconvert_exporter": "python",
   "pygments_lexer": "ipython3",
   "version": "3.7.10"
  }
 },
 "nbformat": 4,
 "nbformat_minor": 4
}
